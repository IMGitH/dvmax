{
 "cells": [
  {
   "cell_type": "markdown",
   "id": "aa29f422",
   "metadata": {},
   "source": [
    "# 📘 Parquet Feature Exploration\n",
    "Friendly visualizations to better understand your merged `features_all.parquet` file."
   ]
  },
  {
   "cell_type": "code",
   "execution_count": null,
   "id": "b2551479",
   "metadata": {},
   "outputs": [],
   "source": [
    "# 📦 Setup\n",
    "import polars as pl\n",
    "import matplotlib.pyplot as plt\n",
    "import seaborn as sns\n",
    "\n",
    "# 📁 Load the merged Parquet\n",
    "parquet_path = \"features_all.parquet\"\n",
    "df = pl.read_parquet(parquet_path)\n",
    "\n",
    "# 🔁 Convert to pandas for viz (optional)\n",
    "pdf = df.to_pandas()\n",
    "\n",
    "# 👀 Preview data\n",
    "pdf.head()\n"
   ]
  },
  {
   "cell_type": "code",
   "execution_count": null,
   "id": "f2a794a4",
   "metadata": {},
   "outputs": [],
   "source": [
    "# 📊 Basic Info\n",
    "print(\"Shape:\", pdf.shape)\n",
    "print(\"\\nColumn types:\\n\", pdf.dtypes)\n",
    "pdf.describe(include='all').T\n"
   ]
  },
  {
   "cell_type": "code",
   "execution_count": null,
   "id": "b6e9e264",
   "metadata": {},
   "outputs": [],
   "source": [
    "# 🧼 Null Values Heatmap\n",
    "plt.figure(figsize=(12, 6))\n",
    "sns.heatmap(pdf.isnull(), cbar=False, cmap=\"Reds\")\n",
    "plt.title(\"Missing Values by Row\")\n",
    "plt.xlabel(\"Columns\")\n",
    "plt.ylabel(\"Rows\")\n",
    "plt.show()\n"
   ]
  },
  {
   "cell_type": "code",
   "execution_count": null,
   "id": "51a697db",
   "metadata": {},
   "outputs": [],
   "source": [
    "# 📈 Histograms of numeric columns\n",
    "pdf.select_dtypes(include=[\"number\"]).hist(\n",
    "    figsize=(16, 12), bins=30, edgecolor='black', color='skyblue'\n",
    ")\n",
    "plt.suptitle(\"Numeric Column Distributions\", fontsize=16)\n",
    "plt.tight_layout()\n",
    "plt.show()\n"
   ]
  },
  {
   "cell_type": "code",
   "execution_count": null,
   "id": "70c32f04",
   "metadata": {},
   "outputs": [],
   "source": [
    "# 🔗 Correlation Heatmap\n",
    "plt.figure(figsize=(12, 8))\n",
    "sns.heatmap(\n",
    "    pdf.select_dtypes(include=\"number\").corr(),\n",
    "    annot=True, fmt=\".2f\", cmap=\"coolwarm\",\n",
    "    square=True, cbar=True\n",
    ")\n",
    "plt.title(\"Feature Correlation Heatmap\")\n",
    "plt.show()\n"
   ]
  },
  {
   "cell_type": "code",
   "execution_count": null,
   "id": "d70cedc1",
   "metadata": {},
   "outputs": [],
   "source": [
    "# 🚨 Outlier detection (simple boxplots)\n",
    "numeric_cols = pdf.select_dtypes(include=\"number\").columns[:6]  # limit to first 6 for readability\n",
    "\n",
    "plt.figure(figsize=(16, 10))\n",
    "for i, col in enumerate(numeric_cols, 1):\n",
    "    plt.subplot(2, 3, i)\n",
    "    sns.boxplot(x=pdf[col], color=\"lightblue\")\n",
    "    plt.title(f\"{col} (Outliers)\")\n",
    "plt.tight_layout()\n",
    "plt.show()\n"
   ]
  },
  {
   "cell_type": "code",
   "execution_count": null,
   "id": "322a795b",
   "metadata": {},
   "outputs": [],
   "source": [
    "# 🧪 Check for duplicate rows or tickers\n",
    "if \"ticker\" in pdf.columns:\n",
    "    dupe_count = pdf.duplicated(subset=\"ticker\").sum()\n",
    "    print(f\"Duplicate ticker entries: {dupe_count}\")\n",
    "else:\n",
    "    print(\"No 'ticker' column found.\")\n"
   ]
  }
 ],
 "metadata": {
  "language_info": {
   "name": "python"
  }
 },
 "nbformat": 4,
 "nbformat_minor": 5
}
