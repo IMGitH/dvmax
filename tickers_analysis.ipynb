{
 "cells": [
  {
   "cell_type": "markdown",
   "id": "698fa049",
   "metadata": {},
   "source": [
    "## 📦 Setup"
   ]
  },
  {
   "cell_type": "code",
   "execution_count": null,
   "id": "6085cd0e",
   "metadata": {},
   "outputs": [],
   "source": [
    "import polars as pl\n",
    "import matplotlib.pyplot as plt\n",
    "import seaborn as sns\n",
    "import numpy as np\n",
    "import pandas as pd\n",
    "\n",
    "# Load data\n",
    "df = pl.read_parquet(\"features_parquet/tickers_data/features_all_tickers_timeseries.parquet\")\n",
    "pdf = df.to_pandas()\n",
    "\n",
    "# Preview and validate structure\n",
    "print(\"✅ Shape:\", pdf.shape)\n",
    "print(\"🧾 Columns:\", pdf.columns.tolist())\n",
    "print(\"🆔 Unique tickers:\", sorted(pdf['ticker'].dropna().unique().tolist()))\n",
    "pdf.head()\n"
   ]
  },
  {
   "cell_type": "markdown",
   "id": "52fe96d7",
   "metadata": {},
   "source": [
    "### 🧼 Missing Data Heatmap"
   ]
  },
  {
   "cell_type": "code",
   "execution_count": null,
   "id": "b65080dc",
   "metadata": {},
   "outputs": [],
   "source": [
    "plt.figure(figsize=(14, 6))\n",
    "sns.heatmap(pdf.isnull(), cbar=False, cmap=\"Reds\")\n",
    "plt.title(\"🧯 Missing Values (Rows x Columns)\")\n",
    "plt.tight_layout()\n",
    "plt.show()"
   ]
  },
  {
   "cell_type": "markdown",
   "id": "e9156035",
   "metadata": {},
   "source": [
    "### 🧮 Define Metric Groups"
   ]
  },
  {
   "cell_type": "code",
   "execution_count": null,
   "id": "20c4f17e",
   "metadata": {},
   "outputs": [],
   "source": [
    "metric_groups = {\n",
    "    \"Growth\": [\"eps_cagr_3y\", \"fcf_cagr_3y\", \"dividend_cagr_3y\", \"dividend_cagr_5y\"],\n",
    "    \"Returns & Volatility\": [\"6m_return\", \"12m_return\", \"sector_relative_6m\", \"volatility\", \"max_drawdown_1y\"],\n",
    "    \"Fundamentals\": [\"pe_ratio\", \"pfcf_ratio\", \"payout_ratio\", \"dividend_yield\", \"yield_vs_5y_median\",\n",
    "                     \"net_debt_to_ebitda\", \"ebit_interest_cover\", \"ebit_interest_cover_capped\"]\n",
    "}\n",
    "\n",
    "def clean(df, cols):\n",
    "    return df[cols].replace([np.inf, -np.inf], np.nan).dropna()"
   ]
  },
  {
   "cell_type": "markdown",
   "id": "236f2236",
   "metadata": {},
   "source": [
    "### 📊 Histograms"
   ]
  },
  {
   "cell_type": "code",
   "execution_count": null,
   "id": "3be34be3",
   "metadata": {},
   "outputs": [],
   "source": [
    "for name, cols in metric_groups.items():\n",
    "    df_group = clean(pdf, cols)\n",
    "    df_group.hist(bins=30, figsize=(5 * min(3, len(cols)), 4 * (len(cols) // 3 + 1)), edgecolor='black', color='skyblue')\n",
    "    plt.suptitle(f\"📊 {name} - Histogram\", fontsize=14)\n",
    "    plt.tight_layout()\n",
    "    plt.show()"
   ]
  },
  {
   "cell_type": "markdown",
   "id": "42f1c817",
   "metadata": {},
   "source": [
    "### 📈 Boxplots"
   ]
  },
  {
   "cell_type": "code",
   "execution_count": null,
   "id": "de4e1631",
   "metadata": {},
   "outputs": [],
   "source": [
    "for name, cols in metric_groups.items():\n",
    "    df_group = clean(pdf, cols)\n",
    "    plt.figure(figsize=(6 * min(3, len(cols)), 4 * (len(cols) // 3 + 1)))\n",
    "    for i, col in enumerate(cols):\n",
    "        plt.subplot((len(cols) - 1) // 3 + 1, min(3, len(cols)), i + 1)\n",
    "        sns.boxplot(x=df_group[col], color=\"lightblue\")\n",
    "        plt.title(col)\n",
    "    plt.suptitle(f\"📈 {name} - Boxplots\", fontsize=14, y=1.02)\n",
    "    plt.tight_layout()\n",
    "    plt.show()"
   ]
  },
  {
   "cell_type": "markdown",
   "id": "e64b19fd",
   "metadata": {},
   "source": [
    "### 📌 Correlation Heatmaps"
   ]
  },
  {
   "cell_type": "code",
   "execution_count": null,
   "id": "6245611e",
   "metadata": {},
   "outputs": [],
   "source": [
    "def clean_numeric(df, cols):\n",
    "    sub_df = df[cols].replace([np.inf, -np.inf], np.nan).dropna()\n",
    "    return sub_df\n",
    "\n",
    "for group_name, cols in metric_groups.items():\n",
    "    sub_df = clean_numeric(pdf, cols)\n",
    "    if sub_df.shape[1] > 1:\n",
    "        plt.figure(figsize=(6, 5))\n",
    "        sns.heatmap(\n",
    "            sub_df.corr(), annot=True, fmt=\".2f\", cmap=\"coolwarm\",\n",
    "            square=True, cbar=True, annot_kws={\"size\": 8}\n",
    "        )\n",
    "        plt.title(f\"Correlation Heatmap: {group_name}\")\n",
    "        plt.tight_layout()\n",
    "        plt.show()"
   ]
  },
  {
   "cell_type": "markdown",
   "id": "75d72993",
   "metadata": {},
   "source": [
    "### 🕸 Radar Chart (Normalized Per Group)"
   ]
  },
  {
   "cell_type": "code",
   "execution_count": null,
   "id": "03dd88a5",
   "metadata": {},
   "outputs": [],
   "source": [
    "def plot_radar(df, tickers, features, title=\"Radar Chart\"):\n",
    "    df = df.set_index(\"ticker\")\n",
    "    df = df.replace([np.inf, -np.inf], np.nan)\n",
    "\n",
    "    # Keep only tickers of interest\n",
    "    df = df.loc[df.index.intersection(tickers)]\n",
    "\n",
    "    # Convert features to numeric safely\n",
    "    df = df.copy()\n",
    "    for f in features:\n",
    "        df[f] = pd.to_numeric(df[f], errors=\"coerce\")\n",
    "\n",
    "    # Drop incomplete rows\n",
    "    df = df.dropna(subset=features)\n",
    "    if df.empty:\n",
    "        print(f\"⚠️ No valid data for: {title}\")\n",
    "        return\n",
    "\n",
    "    # Remove constant-value features (useless in radar)\n",
    "    variable_features = [f for f in features if df[f].nunique(dropna=True) > 1]\n",
    "    if len(variable_features) < 2:\n",
    "        print(f\"⚠️ Not enough variable features for radar: {title}\")\n",
    "        return\n",
    "\n",
    "    # Normalize\n",
    "    df_norm = (df[variable_features] - df[variable_features].min()) / (df[variable_features].max() - df[variable_features].min())\n",
    "    angles = np.linspace(0, 2 * np.pi, len(variable_features), endpoint=False).tolist()\n",
    "    angles += angles[:1]  # close loop\n",
    "\n",
    "    # Start plot\n",
    "    fig, ax = plt.subplots(figsize=(7, 7), subplot_kw=dict(polar=True))\n",
    "\n",
    "    for ticker in df_norm.index:\n",
    "        row = df_norm.loc[ticker]\n",
    "        values = row.values.flatten().tolist() if hasattr(row, \"values\") else [row]\n",
    "        values += values[:1]  # close loop\n",
    "        if len(values) != len(angles):\n",
    "            print(f\"❌ Mismatch in angles/values for {ticker} — skipping.\")\n",
    "            continue\n",
    "        ax.plot(angles, values, label=ticker)\n",
    "        ax.fill(angles, values, alpha=0.1)\n",
    "\n",
    "    ax.set_theta_offset(np.pi / 2)\n",
    "    ax.set_theta_direction(-1)\n",
    "    ax.set_thetagrids(np.degrees(angles[:-1]), variable_features)\n",
    "    ax.set_ylim(0, 1)\n",
    "    ax.set_title(title, size=14)\n",
    "    ax.legend(loc=\"upper right\", bbox_to_anchor=(1.3, 1.1))\n",
    "    plt.tight_layout()\n",
    "    plt.show()\n",
    "\n",
    "\n",
    "\n",
    "tickers = sorted(pdf['ticker'].dropna().unique().tolist())\n",
    "for group_name, features in metric_groups.items():\n",
    "    for i in range(0, len(tickers), 5):\n",
    "        batch = tickers[i:i + 5]\n",
    "        plot_radar(pdf.copy(), batch, features, title=f\"{group_name}: {', '.join(batch)}\")\n"
   ]
  },
  {
   "cell_type": "markdown",
   "id": "8cd8a508",
   "metadata": {},
   "source": [
    "### 📉 Raw Feature Values per Ticker"
   ]
  },
  {
   "cell_type": "code",
   "execution_count": null,
   "id": "7d7d7133",
   "metadata": {},
   "outputs": [],
   "source": [
    "def plot_raw(df, tickers, features, title=\"Raw Feature Values\"):\n",
    "    df_sub = df[df[\"ticker\"].isin(tickers)][[\"ticker\"] + features].replace([np.inf, -np.inf], np.nan).dropna()\n",
    "    df_sub.set_index(\"ticker\", inplace=True)\n",
    "    ax = df_sub.plot(kind=\"bar\", figsize=(10, 6))\n",
    "    plt.title(title)\n",
    "    plt.ylabel(\"Raw Value\")\n",
    "    plt.xticks(rotation=45)\n",
    "    plt.tight_layout()\n",
    "    plt.show()\n",
    "\n",
    "ENABLE_RAW_PLOTS = False\n",
    "\n",
    "if ENABLE_RAW_PLOTS:\n",
    "    for group_name, features in metric_groups.items():\n",
    "        for i in range(0, len(tickers), 5):\n",
    "            batch = tickers[i:i + 5]\n",
    "            plot_raw(pdf.copy(), batch, features, title=f\"{group_name}: {', '.join(batch)}\")"
   ]
  }
 ],
 "metadata": {
  "kernelspec": {
   "display_name": "venv",
   "language": "python",
   "name": "python3"
  },
  "language_info": {
   "codemirror_mode": {
    "name": "ipython",
    "version": 3
   },
   "file_extension": ".py",
   "mimetype": "text/x-python",
   "name": "python",
   "nbconvert_exporter": "python",
   "pygments_lexer": "ipython3",
   "version": "3.12.1"
  }
 },
 "nbformat": 4,
 "nbformat_minor": 5
}
