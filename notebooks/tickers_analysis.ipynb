{
 "cells": [
  {
   "cell_type": "markdown",
   "id": "698fa049",
   "metadata": {},
   "source": [
    "## 📦 Setup"
   ]
  },
  {
   "cell_type": "code",
   "execution_count": null,
   "id": "6085cd0e",
   "metadata": {},
   "outputs": [],
   "source": [
    "import polars as pl\n",
    "import pandas as pd\n",
    "import numpy as np\n",
    "import matplotlib.pyplot as plt\n",
    "import seaborn as sns\n",
    "import os\n",
    "\n",
    "# --- Config ---\n",
    "sns.set_theme(style=\"whitegrid\")\n",
    "plt.rcParams['figure.figsize'] = (10, 6)\n",
    "\n",
    "FEATURES_DIR = \"../features_data/tickers_history\"\n",
    "\n",
    "with open(\"../features_data/tickers/us_tickers_subset_limited.txt\", \"r\") as f:\n",
    "    TICKERS_TO_LOAD = [line.strip() for line in f if line.strip()]\n",
    "\n",
    "\n",
    "# --- Load only selected ticker files ---\n",
    "dfs = []\n",
    "for ticker in TICKERS_TO_LOAD:\n",
    "    path = os.path.join(FEATURES_DIR, f\"{ticker}.parquet\")\n",
    "    if not os.path.exists(path):\n",
    "        print(f\"⚠️ File not found for {ticker}: {path}\")\n",
    "        continue\n",
    "    dfs.append(pl.read_parquet(path))\n",
    "\n",
    "if not dfs:\n",
    "    raise ValueError(\"❌ No valid ticker files loaded.\")\n",
    "\n",
    "df = pl.concat(dfs, how=\"vertical_relaxed\")\n",
    "df = df.filter(pl.col(\"ticker\").is_not_null())\n",
    "pdf = df.to_pandas()\n",
    "\n",
    "# --- Preview ---\n",
    "print(\"✅ Loaded tickers:\", TICKERS_TO_LOAD)\n",
    "print(\"📦 Data shape:\", pdf.shape)\n",
    "print(\"🧾 Columns:\", pdf.columns.tolist())\n",
    "print(\"🆔 Tickers present:\", pdf['ticker'].unique())\n",
    "\n",
    "# Optional preview\n",
    "display(pdf.head())\n"
   ]
  },
  {
   "cell_type": "markdown",
   "id": "52fe96d7",
   "metadata": {},
   "source": [
    "### 🧼 Missing Data Heatmap"
   ]
  },
  {
   "cell_type": "code",
   "execution_count": null,
   "id": "b65080dc",
   "metadata": {},
   "outputs": [],
   "source": [
    "plt.figure(figsize=(14, 6))\n",
    "sns.heatmap(pdf.isnull(), cbar=False, cmap=\"Reds\")\n",
    "plt.title(\"🧯 Missing Values (Rows x Columns)\")\n",
    "plt.tight_layout()\n",
    "plt.show()"
   ]
  },
  {
   "cell_type": "markdown",
   "id": "e9156035",
   "metadata": {},
   "source": [
    "### 🧮 Define Metric Groups"
   ]
  },
  {
   "cell_type": "code",
   "execution_count": null,
   "id": "20c4f17e",
   "metadata": {},
   "outputs": [],
   "source": [
    "metric_groups = {\n",
    "    \"Growth\": [\"eps_cagr_3y\", \"fcf_cagr_3y\", \"dividend_cagr_3y\", \"dividend_cagr_5y\"],\n",
    "    \"Returns & Volatility\": [\"6m_return\", \"12m_return\", \"sector_relative_6m\", \"volatility\", \"max_drawdown_1y\"],\n",
    "    \"Fundamentals\": [\"pe_ratio\", \"pfcf_ratio\", \"payout_ratio\", \"dividend_yield\", \"yield_vs_5y_median\",\n",
    "                     \"net_debt_to_ebitda\", \"ebit_interest_cover\", \"ebit_interest_cover_capped\"]\n",
    "}\n",
    "\n",
    "def clean(df, cols):\n",
    "    return df[cols].replace([np.inf, -np.inf], np.nan).dropna()"
   ]
  },
  {
   "cell_type": "markdown",
   "id": "236f2236",
   "metadata": {},
   "source": [
    "### 📊 Histograms"
   ]
  },
  {
   "cell_type": "code",
   "execution_count": null,
   "id": "3be34be3",
   "metadata": {},
   "outputs": [],
   "source": [
    "for name, cols in metric_groups.items():\n",
    "    df_group = clean(pdf, cols)\n",
    "    df_group.hist(bins=30, figsize=(5 * min(3, len(cols)), 4 * (len(cols) // 3 + 1)), edgecolor='black', color='skyblue')\n",
    "    plt.suptitle(f\"📊 {name} - Histogram\", fontsize=14)\n",
    "    plt.tight_layout()\n",
    "    plt.show()"
   ]
  },
  {
   "cell_type": "markdown",
   "id": "42f1c817",
   "metadata": {},
   "source": [
    "### 📈 Boxplots"
   ]
  },
  {
   "cell_type": "code",
   "execution_count": null,
   "id": "de4e1631",
   "metadata": {},
   "outputs": [],
   "source": [
    "for name, cols in metric_groups.items():\n",
    "    df_group = clean(pdf, cols)\n",
    "    plt.figure(figsize=(6 * min(3, len(cols)), 4 * (len(cols) // 3 + 1)))\n",
    "    for i, col in enumerate(cols):\n",
    "        plt.subplot((len(cols) - 1) // 3 + 1, min(3, len(cols)), i + 1)\n",
    "        sns.boxplot(x=df_group[col], color=\"lightblue\")\n",
    "        plt.title(col)\n",
    "    plt.suptitle(f\"📈 {name} - Boxplots\", fontsize=14, y=1.02)\n",
    "    plt.tight_layout()\n",
    "    plt.show()"
   ]
  },
  {
   "cell_type": "markdown",
   "id": "e64b19fd",
   "metadata": {},
   "source": [
    "### 📌 Correlation Heatmaps"
   ]
  },
  {
   "cell_type": "code",
   "execution_count": null,
   "id": "6245611e",
   "metadata": {},
   "outputs": [],
   "source": [
    "def clean_numeric(df, cols):\n",
    "    sub_df = df[cols].replace([np.inf, -np.inf], np.nan).dropna()\n",
    "    return sub_df\n",
    "\n",
    "for group_name, cols in metric_groups.items():\n",
    "    sub_df = clean_numeric(pdf, cols)\n",
    "    if sub_df.shape[1] > 1:\n",
    "        plt.figure(figsize=(6, 5))\n",
    "        sns.heatmap(\n",
    "            sub_df.corr(), annot=True, fmt=\".2f\", cmap=\"coolwarm\",\n",
    "            square=True, cbar=True, annot_kws={\"size\": 8}\n",
    "        )\n",
    "        plt.title(f\"Correlation Heatmap: {group_name}\")\n",
    "        plt.tight_layout()\n",
    "        plt.show()"
   ]
  },
  {
   "cell_type": "markdown",
   "id": "75d72993",
   "metadata": {},
   "source": [
    "### 🕸 Radar Chart (Normalized Per Group)"
   ]
  },
  {
   "cell_type": "code",
   "execution_count": null,
   "id": "03dd88a5",
   "metadata": {},
   "outputs": [],
   "source": [
    "import pandas as pd\n",
    "import numpy as np\n",
    "import matplotlib.pyplot as plt\n",
    "import polars as pl\n",
    "\n",
    "def plot_radar(df_polars, tickers, features, title=\"Radar Chart\"):\n",
    "    # Convert to pandas and filter relevant tickers\n",
    "    df = df_polars.filter(pl.col(\"ticker\").is_in(tickers)).select([\"ticker\"] + features).to_pandas()\n",
    "    df = df.replace([np.inf, -np.inf], np.nan).dropna(subset=features)\n",
    "    if df.empty:\n",
    "        print(f\"⚠️ No valid data for: {title}\")\n",
    "        return\n",
    "\n",
    "    # Remove constant-value features\n",
    "    variable_features = [f for f in features if df[f].nunique(dropna=True) > 1]\n",
    "    if len(variable_features) < 2:\n",
    "        print(f\"⚠️ Not enough variable features for radar: {title}\")\n",
    "        return\n",
    "\n",
    "    # Normalize each feature to [0, 1]\n",
    "    df_norm = df.set_index(\"ticker\")\n",
    "    df_norm = (df_norm[variable_features] - df_norm[variable_features].min()) / \\\n",
    "              (df_norm[variable_features].max() - df_norm[variable_features].min())\n",
    "\n",
    "    # Angles for radar chart\n",
    "    num_vars = len(variable_features)\n",
    "    angles = np.linspace(0, 2 * np.pi, num_vars, endpoint=False).tolist()\n",
    "    angles += angles[:1]  # close the loop\n",
    "\n",
    "    # Start radar plot\n",
    "    fig, ax = plt.subplots(figsize=(7, 7), subplot_kw=dict(polar=True))\n",
    "\n",
    "    for ticker in df_norm.index.unique():\n",
    "        row = df_norm.loc[ticker]\n",
    "        if isinstance(row, pd.DataFrame):\n",
    "            row = row.iloc[0]  # pick the first row if duplicates exist\n",
    "        values = row.values.tolist()\n",
    "        values += values[:1]  # close the loop\n",
    "        if len(values) != len(angles):\n",
    "            print(f\"⚠️ Skipping {ticker} due to mismatch (values={len(values)}, angles={len(angles)}).\")\n",
    "            continue\n",
    "        ax.plot(angles, values, label=ticker)\n",
    "        ax.fill(angles, values, alpha=0.1)\n",
    "\n",
    "    ax.set_theta_offset(np.pi / 2)\n",
    "    ax.set_theta_direction(-1)\n",
    "    ax.set_thetagrids(np.degrees(angles[:-1]), [f.replace(\"_\", \" \").title() for f in variable_features])\n",
    "    ax.set_ylim(0, 1)\n",
    "    ax.set_title(title, size=14)\n",
    "    ax.legend(loc=\"upper right\", bbox_to_anchor=(1.3, 1.1))\n",
    "    plt.tight_layout()\n",
    "    plt.show()\n",
    "\n",
    "\n",
    "def get_top_complete_tickers(pdf, features, top_n=6):\n",
    "    df = pdf.select([\"ticker\"] + features).drop_nulls()\n",
    "    counts = df.group_by(\"ticker\").len().sort(\"len\", descending=True)\n",
    "    return counts.head(top_n)[\"ticker\"].to_list()\n",
    "\n",
    "# Example metric groups (customize as needed)\n",
    "metric_groups = {\n",
    "    \"Dividend Strength\": [\"dividend_yield\", \"dividend_cagr_3y\", \"dividend_cagr_5y\", \"yield_vs_5y_median\"],\n",
    "    \"Valuation\": [\"pe_ratio\", \"pfcf_ratio\", \"payout_ratio\"],\n",
    "    \"Growth\": [\"eps_cagr_3y\", \"fcf_cagr_3y\", \"net_debt_to_ebitda\", \"ebit_interest_cover\"]\n",
    "}\n",
    "\n",
    "# Plot radar for each group\n",
    "for group_name, features in metric_groups.items():\n",
    "    top_tickers = get_top_complete_tickers(df, features, top_n=6)\n",
    "    plot_radar(df, top_tickers, features, title=f\"{group_name}: Top {len(top_tickers)} Tickers\")\n"
   ]
  },
  {
   "cell_type": "markdown",
   "id": "8cd8a508",
   "metadata": {},
   "source": [
    "### 📉 Raw Feature Values per Ticker"
   ]
  },
  {
   "cell_type": "code",
   "execution_count": null,
   "id": "7d7d7133",
   "metadata": {},
   "outputs": [],
   "source": [
    "def plot_raw(df, tickers, features, title=\"Raw Feature Values\"):\n",
    "    df_sub = df[df[\"ticker\"].isin(tickers)]\n",
    "\n",
    "    # Ensure latest data per ticker\n",
    "    if \"as_of\" in df_sub.columns:\n",
    "        df_sub = (\n",
    "            df_sub.sort_values(\"as_of\", ascending=False)\n",
    "                  .drop_duplicates(\"ticker\", keep=\"first\")\n",
    "                  .set_index(\"ticker\")\n",
    "        )\n",
    "    else:\n",
    "        print(\"⚠️ 'as_of' column missing. Skipping latest filter.\")\n",
    "        df_sub = df_sub.set_index(\"ticker\")\n",
    "\n",
    "    df_sub = df_sub[features].replace([np.inf, -np.inf], np.nan).dropna()\n",
    "\n",
    "    if df_sub.empty:\n",
    "        print(f\"⚠️ Skipping empty data for: {tickers}\")\n",
    "        return\n",
    "\n",
    "    df_sub = df_sub.sort_index()\n",
    "    ax = df_sub.plot(kind=\"bar\", figsize=(12, 6), colormap=\"tab10\")\n",
    "    ax.set_title(title)\n",
    "    ax.set_ylabel(\"Raw Value\")\n",
    "    ax.set_xlabel(\"Ticker\")\n",
    "    ax.set_xticklabels(df_sub.index, rotation=0, ha=\"center\")\n",
    "    ax.legend(title=\"Feature\", bbox_to_anchor=(1.05, 1), loc='upper left')\n",
    "    plt.tight_layout()\n",
    "    plt.show()\n",
    "\n",
    "\n",
    "\n",
    "\n",
    "ENABLE_RAW_PLOTS = True\n",
    "\n",
    "if ENABLE_RAW_PLOTS:\n",
    "    for group_name, features in metric_groups.items():\n",
    "        for i in range(0, len(TICKERS_TO_LOAD), 5):\n",
    "            batch = TICKERS_TO_LOAD[i:i + 5]\n",
    "            plot_raw(pdf.copy(), batch, features, title=f\"{group_name}: Raw Feature Comparison\")"
   ]
  }
 ],
 "metadata": {
  "kernelspec": {
   "display_name": ".venv",
   "language": "python",
   "name": "python3"
  },
  "language_info": {
   "codemirror_mode": {
    "name": "ipython",
    "version": 3
   },
   "file_extension": ".py",
   "mimetype": "text/x-python",
   "name": "python",
   "nbconvert_exporter": "python",
   "pygments_lexer": "ipython3",
   "version": "3.12.1"
  }
 },
 "nbformat": 4,
 "nbformat_minor": 5
}
